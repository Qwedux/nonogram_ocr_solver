{
 "cells": [
  {
   "cell_type": "code",
   "execution_count": null,
   "id": "06d78451",
   "metadata": {},
   "outputs": [
    {
     "ename": "ImportError",
     "evalue": "cannot import name 'windll' from 'ctypes' (/usr/lib/python3.13/ctypes/__init__.py)",
     "output_type": "error",
     "traceback": [
      "\u001b[31m---------------------------------------------------------------------------\u001b[39m",
      "\u001b[31mImportError\u001b[39m                               Traceback (most recent call last)",
      "\u001b[36mCell\u001b[39m\u001b[36m \u001b[39m\u001b[32mIn[5]\u001b[39m\u001b[32m, line 3\u001b[39m\n\u001b[32m      1\u001b[39m \u001b[38;5;28;01mimport\u001b[39;00m\u001b[38;5;250m \u001b[39m\u001b[34;01mcv2\u001b[39;00m\n\u001b[32m      2\u001b[39m \u001b[38;5;28;01mimport\u001b[39;00m\u001b[38;5;250m \u001b[39m\u001b[34;01mctypes\u001b[39;00m\n\u001b[32m----> \u001b[39m\u001b[32m3\u001b[39m \u001b[38;5;28;01mfrom\u001b[39;00m\u001b[38;5;250m \u001b[39m\u001b[34;01mctypes\u001b[39;00m\u001b[38;5;250m \u001b[39m\u001b[38;5;28;01mimport\u001b[39;00m windll\n\u001b[32m      4\u001b[39m awareness = ctypes.c_int()\n\u001b[32m      5\u001b[39m windll.shcore.GetProcessDpiAwareness(\u001b[32m0\u001b[39m, ctypes.byref(awareness))\n",
      "\u001b[31mImportError\u001b[39m: cannot import name 'windll' from 'ctypes' (/usr/lib/python3.13/ctypes/__init__.py)"
     ]
    }
   ],
   "source": [
    "import cv2\n",
    "import ctypes\n",
    "\n",
    "# DPI awareness code is Windows-specific and not available on Linux/WSL\n",
    "# awareness = ctypes.c_int()\n",
    "# from ctypes import windll\n",
    "# windll.shcore.GetProcessDpiAwareness(0, ctypes.byref(awareness))\n",
    "# print(awareness)\n",
    "\n",
    "# img_path = \"../images/Screenshot_20250720_131146_Nonogram_galaxy.png\"\n",
    "# img = cv2.imread(img_path)"
   ]
  },
  {
   "cell_type": "code",
   "execution_count": 3,
   "id": "4cce9487",
   "metadata": {},
   "outputs": [],
   "source": [
    "def show_image(title, image):\n",
    "    cv2.imshow(title, image)\n",
    "    cv2.waitKey(0)\n",
    "    cv2.destroyAllWindows()"
   ]
  },
  {
   "cell_type": "code",
   "execution_count": null,
   "id": "f6bf466e",
   "metadata": {},
   "outputs": [],
   "source": [
    "gray = cv2.cvtColor(img, cv2.COLOR_BGR2GRAY)\n",
    "blur = cv2.GaussianBlur(gray, (5,5), 0)\n",
    "edges = cv2.Canny(blur, 50, 150)\n",
    "show_image(\"Edges\", edges)"
   ]
  },
  {
   "cell_type": "code",
   "execution_count": 1,
   "id": "1e2fe4aa",
   "metadata": {},
   "outputs": [],
   "source": [
    "import cv2\n",
    "import numpy as np\n",
    "\n",
    "# Load your image\n",
    "img = cv2.imread('../images/Screenshot_20250720_131146_Nonogram_galaxy.png')\n",
    "\n",
    "# Scale factor for 4K display (adjust this value as needed)\n",
    "scale_factor = 2.0  # 2x larger, try 3.0 or 4.0 if still too small\n",
    "\n",
    "# Interactive edge detection with sliders\n",
    "def update_edges(val=None):\n",
    "    # Get trackbar values\n",
    "    kernel_size = cv2.getTrackbarPos('Kernel Size', 'Interactive Edges')\n",
    "    # Ensure kernel size is odd and at least 1\n",
    "    if kernel_size % 2 == 0:\n",
    "        kernel_size += 1\n",
    "    if kernel_size < 1:\n",
    "        kernel_size = 1\n",
    "    \n",
    "    sigma = cv2.getTrackbarPos('Sigma', 'Interactive Edges')\n",
    "    low_threshold = cv2.getTrackbarPos('Low Threshold', 'Interactive Edges')\n",
    "    high_threshold = cv2.getTrackbarPos('High Threshold', 'Interactive Edges')\n",
    "    \n",
    "    # Apply processing\n",
    "    gray = cv2.cvtColor(img, cv2.COLOR_BGR2GRAY)\n",
    "    blur = cv2.GaussianBlur(gray, (kernel_size, kernel_size), sigma)\n",
    "    edges = cv2.Canny(blur, low_threshold, high_threshold)\n",
    "    \n",
    "    # Scale up the image for better visibility on 4K monitor\n",
    "    height, width = edges.shape\n",
    "    new_width = int(width * scale_factor)\n",
    "    new_height = int(height * scale_factor)\n",
    "    edges_scaled = cv2.resize(edges, (new_width, new_height), interpolation=cv2.INTER_NEAREST)\n",
    "    \n",
    "    # Display result\n",
    "    cv2.imshow('Interactive Edges', edges_scaled)\n",
    "\n",
    "# Create window\n",
    "cv2.namedWindow('Interactive Edges', cv2.WINDOW_NORMAL)\n",
    "\n",
    "# Create trackbars\n",
    "cv2.createTrackbar('Kernel Size', 'Interactive Edges', 5, 21, update_edges)  # Blur kernel size (1-21, odd numbers work best)\n",
    "cv2.createTrackbar('Sigma', 'Interactive Edges', 0, 10, update_edges)        # Blur sigma (0-10)\n",
    "cv2.createTrackbar('Low Threshold', 'Interactive Edges', 50, 255, update_edges)   # Canny low threshold\n",
    "cv2.createTrackbar('High Threshold', 'Interactive Edges', 120, 255, update_edges) # Canny high threshold\n",
    "\n",
    "# Initial display\n",
    "update_edges()\n",
    "\n",
    "# Wait for key press and cleanup\n",
    "cv2.waitKey(0)\n",
    "cv2.destroyAllWindows()"
   ]
  }
 ],
 "metadata": {
  "kernelspec": {
   "display_name": ".venv",
   "language": "python",
   "name": "python3"
  },
  "language_info": {
   "codemirror_mode": {
    "name": "ipython",
    "version": 3
   },
   "file_extension": ".py",
   "mimetype": "text/x-python",
   "name": "python",
   "nbconvert_exporter": "python",
   "pygments_lexer": "ipython3",
   "version": "3.13.1"
  }
 },
 "nbformat": 4,
 "nbformat_minor": 5
}
